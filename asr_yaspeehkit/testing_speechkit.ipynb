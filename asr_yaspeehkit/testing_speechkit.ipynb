{
 "cells": [
  {
   "cell_type": "code",
   "execution_count": 1,
   "metadata": {},
   "outputs": [],
   "source": [
    "import os\n",
    "import urllib.request\n",
    "import json\n",
    "import requests\n",
    "\n",
    "def asr_from_yandex_speeckit(FOLDER_ID, API_KEY, audiofile_name,\n",
    "                                language=\"ru-RU\",\n",
    "                                 ):\n",
    "    \n",
    "    with open(audiofile_name, \"rb\") as f:\n",
    "        data = f.read()\n",
    "\n",
    "    params = \"&\".join([\n",
    "        \"topic=general\",\n",
    "        \"folderId=%s\" % FOLDER_ID,\n",
    "        \"lang=%s\" % language\n",
    "    ])\n",
    "\n",
    "    url = urllib.request.Request(\"https://stt.api.cloud.yandex.net/speech/v1/stt:recognize?%s\" % params, data=data)\n",
    "    url.add_header(\"Authorization\", \"Api-Key %s\" % API_KEY) # если API-ключ\n",
    "    # url.add_header(\"Authorization\", \"Bearer %s\" % IAM_TOKEN) # если IAM токен\n",
    "\n",
    "    responseData = urllib.request.urlopen(url).read().decode('UTF-8')\n",
    "    decodedData = json.loads(responseData)\n",
    "\n",
    "    if decodedData.get(\"error_code\") is None:\n",
    "        asr_result = decodedData.get(\"result\")\n",
    "    else:\n",
    "        asr_result = 'Nothing recognized'\n",
    "    \n",
    "    return asr_result\n",
    "\n",
    "\n",
    "def asr_from_yandex_speeckit(FOLDER_ID, API_KEY, audiofile_name,\n",
    "                                language=\"ru-RU\",\n",
    "                                 ):\n",
    "    \n",
    "    with open(audiofile_name, \"rb\") as f:\n",
    "        data = f.read()\n",
    "\n",
    "    params = \"&\".join([\n",
    "        \"topic=general\",\n",
    "        \"folderId=%s\" % FOLDER_ID,\n",
    "        \"lang=%s\" % language\n",
    "    ])\n",
    "\n",
    "    url = urllib.request.Request(\"https://stt.api.cloud.yandex.net/speech/v1/stt:recognize?%s\" % params, data=data)\n",
    "    url.add_header(\"Authorization\", \"Api-Key %s\" % API_KEY) # если API-ключ\n",
    "    # url.add_header(\"Authorization\", \"Bearer %s\" % IAM_TOKEN) # если IAM токен\n",
    "\n",
    "    responseData = urllib.request.urlopen(url).read().decode('UTF-8')\n",
    "    decodedData = json.loads(responseData)\n",
    "\n",
    "    if decodedData.get(\"error_code\") is None:\n",
    "        asr_result = decodedData.get(\"result\")\n",
    "    else:\n",
    "        asr_result = 'Nothing recognized'\n",
    "    \n",
    "    return asr_result"
   ]
  },
  {
   "cell_type": "code",
   "execution_count": null,
   "metadata": {},
   "outputs": [],
   "source": [
    "def synthesize(folder_id, api_key, text):\n",
    "    url = 'https://tts.api.cloud.yandex.net/speech/v1/tts:synthesize'\n",
    "    headers = {\n",
    "        'Authorization': 'Api-Key ' + api_key,\n",
    "    }\n",
    "\n",
    "    data = {\n",
    "        'text': text,\n",
    "        'lang': 'ru-RU',\n",
    "        'voice': 'filipp',\n",
    "        'folderId': folder_id\n",
    "    }\n",
    "\n",
    "    with requests.post(url, headers=headers, data=data, stream=True) as resp:\n",
    "        if resp.status_code != 200:\n",
    "            raise RuntimeError(\"Invalid response received: code: %d, message: %s\" % (resp.status_code, resp.text))\n",
    "\n",
    "        \n",
    "        for chunk in resp.iter_content(chunk_size=None):\n",
    "            yield chunk\n",
    "            \n",
    "\n",
    "def tts_from_yandex_speechkit(text, FOLDER_ID, API_KEY, tts_ogg_name=\"tts_result.ogg\"):\n",
    "\n",
    "    with open(tts_ogg_name, \"wb\") as f:\n",
    "        for audio_content in synthesize(FOLDER_ID, API_KEY, text):\n",
    "            f.write(audio_content)"
   ]
  },
  {
   "cell_type": "code",
   "execution_count": 2,
   "metadata": {},
   "outputs": [],
   "source": [
    "FOLDER_ID = \"b1gami13b761380nb5hb\" # Идентификатор каталога\n",
    "API_KEY = \"AQVN3XofRyHEW5PJOhBYCiObnGaZNYM8IvAQskdp\" # API-ключ"
   ]
  },
  {
   "cell_type": "code",
   "execution_count": 64,
   "metadata": {},
   "outputs": [],
   "source": [
    "ogg_name = \"/home/doctor/Desktop/Projects/husky_audio_pipeline/vad_pyannote/py_files/records/long11.ogg\"\n",
    "# ogg_name = \"/home/doctor/Desktop/Projects/husky_audio_pipeline/vad_pyannote/py_files/records/short11.ogg\"\n",
    "\n",
    "headers = {\n",
    "    'Authorization': f'Api-Key {API_KEY}',\n",
    "    \"lang\" : \"ru-RU\",\n",
    "    # \"sampleRateHertz\" : \"16000\"\n",
    "}\n",
    "\n",
    "with open(ogg_name, 'rb') as f:\n",
    "    data = f.read()\n",
    "\n",
    "response = requests.post(\n",
    "    f'https://stt.api.cloud.yandex.net/speech/v1/stt:recognize?topic=general&folderId={FOLDER_ID}',\n",
    "    headers=headers,\n",
    "    data=data,\n",
    ")"
   ]
  },
  {
   "cell_type": "code",
   "execution_count": 72,
   "metadata": {},
   "outputs": [],
   "source": [
    "import soundfile as sf"
   ]
  },
  {
   "cell_type": "code",
   "execution_count": 73,
   "metadata": {},
   "outputs": [],
   "source": [
    "data, rate = sf.read(ogg_name)"
   ]
  },
  {
   "cell_type": "code",
   "execution_count": 78,
   "metadata": {},
   "outputs": [
    {
     "data": {
      "text/plain": [
       "14.97375"
      ]
     },
     "execution_count": 78,
     "metadata": {},
     "output_type": "execute_result"
    }
   ],
   "source": [
    "data.shape[0] / rate"
   ]
  },
  {
   "cell_type": "code",
   "execution_count": 65,
   "metadata": {},
   "outputs": [
    {
     "data": {
      "text/plain": [
       "{'Authorization': 'Api-Key AQVN3XofRyHEW5PJOhBYCiObnGaZNYM8IvAQskdp',\n",
       " 'lang': 'ru-RU',\n",
       " 'sampleRateHertz': '16000'}"
      ]
     },
     "execution_count": 65,
     "metadata": {},
     "output_type": "execute_result"
    }
   ],
   "source": [
    "headers"
   ]
  },
  {
   "cell_type": "code",
   "execution_count": 66,
   "metadata": {},
   "outputs": [
    {
     "data": {
      "text/plain": [
       "'{\"error_code\":\"BAD_REQUEST\",\"error_message\":\"audio duration should be less than 30s\"}'"
      ]
     },
     "execution_count": 66,
     "metadata": {},
     "output_type": "execute_result"
    }
   ],
   "source": [
    "response.text"
   ]
  },
  {
   "cell_type": "code",
   "execution_count": 6,
   "metadata": {},
   "outputs": [
    {
     "ename": "HTTPError",
     "evalue": "HTTP Error 400: Bad Request",
     "output_type": "error",
     "traceback": [
      "\u001b[0;31m---------------------------------------------------------------------------\u001b[0m",
      "\u001b[0;31mHTTPError\u001b[0m                                 Traceback (most recent call last)",
      "Cell \u001b[0;32mIn[6], line 4\u001b[0m\n\u001b[1;32m      1\u001b[0m \u001b[39m# ogg_name = \"/home/doctor/Desktop/Projects/husky_audio_pipeline/vad_pyannote/py_files/records/short11.ogg\"\u001b[39;00m\n\u001b[1;32m      2\u001b[0m ogg_name \u001b[39m=\u001b[39m \u001b[39m\"\u001b[39m\u001b[39m/home/doctor/Desktop/Projects/husky_audio_pipeline/vad_pyannote/py_files/records/long11.ogg\u001b[39m\u001b[39m\"\u001b[39m\n\u001b[0;32m----> 4\u001b[0m asr_result \u001b[39m=\u001b[39m asr_from_yandex_speeckit(FOLDER_ID, API_KEY, audiofile_name\u001b[39m=\u001b[39;49mogg_name)\n\u001b[1;32m      6\u001b[0m asr_result\n",
      "Cell \u001b[0;32mIn[1], line 23\u001b[0m, in \u001b[0;36masr_from_yandex_speeckit\u001b[0;34m(FOLDER_ID, API_KEY, audiofile_name, language)\u001b[0m\n\u001b[1;32m     20\u001b[0m url\u001b[39m.\u001b[39madd_header(\u001b[39m\"\u001b[39m\u001b[39mAuthorization\u001b[39m\u001b[39m\"\u001b[39m, \u001b[39m\"\u001b[39m\u001b[39mApi-Key \u001b[39m\u001b[39m%s\u001b[39;00m\u001b[39m\"\u001b[39m \u001b[39m%\u001b[39m API_KEY) \u001b[39m# если API-ключ\u001b[39;00m\n\u001b[1;32m     21\u001b[0m \u001b[39m# url.add_header(\"Authorization\", \"Bearer %s\" % IAM_TOKEN) # если IAM токен\u001b[39;00m\n\u001b[0;32m---> 23\u001b[0m responseData \u001b[39m=\u001b[39m urllib\u001b[39m.\u001b[39;49mrequest\u001b[39m.\u001b[39;49murlopen(url)\u001b[39m.\u001b[39mread()\u001b[39m.\u001b[39mdecode(\u001b[39m'\u001b[39m\u001b[39mUTF-8\u001b[39m\u001b[39m'\u001b[39m)\n\u001b[1;32m     24\u001b[0m decodedData \u001b[39m=\u001b[39m json\u001b[39m.\u001b[39mloads(responseData)\n\u001b[1;32m     26\u001b[0m \u001b[39mif\u001b[39;00m decodedData\u001b[39m.\u001b[39mget(\u001b[39m\"\u001b[39m\u001b[39merror_code\u001b[39m\u001b[39m\"\u001b[39m) \u001b[39mis\u001b[39;00m \u001b[39mNone\u001b[39;00m:\n",
      "File \u001b[0;32m/usr/lib/python3.8/urllib/request.py:222\u001b[0m, in \u001b[0;36murlopen\u001b[0;34m(url, data, timeout, cafile, capath, cadefault, context)\u001b[0m\n\u001b[1;32m    220\u001b[0m \u001b[39melse\u001b[39;00m:\n\u001b[1;32m    221\u001b[0m     opener \u001b[39m=\u001b[39m _opener\n\u001b[0;32m--> 222\u001b[0m \u001b[39mreturn\u001b[39;00m opener\u001b[39m.\u001b[39;49mopen(url, data, timeout)\n",
      "File \u001b[0;32m/usr/lib/python3.8/urllib/request.py:531\u001b[0m, in \u001b[0;36mOpenerDirector.open\u001b[0;34m(self, fullurl, data, timeout)\u001b[0m\n\u001b[1;32m    529\u001b[0m \u001b[39mfor\u001b[39;00m processor \u001b[39min\u001b[39;00m \u001b[39mself\u001b[39m\u001b[39m.\u001b[39mprocess_response\u001b[39m.\u001b[39mget(protocol, []):\n\u001b[1;32m    530\u001b[0m     meth \u001b[39m=\u001b[39m \u001b[39mgetattr\u001b[39m(processor, meth_name)\n\u001b[0;32m--> 531\u001b[0m     response \u001b[39m=\u001b[39m meth(req, response)\n\u001b[1;32m    533\u001b[0m \u001b[39mreturn\u001b[39;00m response\n",
      "File \u001b[0;32m/usr/lib/python3.8/urllib/request.py:640\u001b[0m, in \u001b[0;36mHTTPErrorProcessor.http_response\u001b[0;34m(self, request, response)\u001b[0m\n\u001b[1;32m    637\u001b[0m \u001b[39m# According to RFC 2616, \"2xx\" code indicates that the client's\u001b[39;00m\n\u001b[1;32m    638\u001b[0m \u001b[39m# request was successfully received, understood, and accepted.\u001b[39;00m\n\u001b[1;32m    639\u001b[0m \u001b[39mif\u001b[39;00m \u001b[39mnot\u001b[39;00m (\u001b[39m200\u001b[39m \u001b[39m<\u001b[39m\u001b[39m=\u001b[39m code \u001b[39m<\u001b[39m \u001b[39m300\u001b[39m):\n\u001b[0;32m--> 640\u001b[0m     response \u001b[39m=\u001b[39m \u001b[39mself\u001b[39;49m\u001b[39m.\u001b[39;49mparent\u001b[39m.\u001b[39;49merror(\n\u001b[1;32m    641\u001b[0m         \u001b[39m'\u001b[39;49m\u001b[39mhttp\u001b[39;49m\u001b[39m'\u001b[39;49m, request, response, code, msg, hdrs)\n\u001b[1;32m    643\u001b[0m \u001b[39mreturn\u001b[39;00m response\n",
      "File \u001b[0;32m/usr/lib/python3.8/urllib/request.py:569\u001b[0m, in \u001b[0;36mOpenerDirector.error\u001b[0;34m(self, proto, *args)\u001b[0m\n\u001b[1;32m    567\u001b[0m \u001b[39mif\u001b[39;00m http_err:\n\u001b[1;32m    568\u001b[0m     args \u001b[39m=\u001b[39m (\u001b[39mdict\u001b[39m, \u001b[39m'\u001b[39m\u001b[39mdefault\u001b[39m\u001b[39m'\u001b[39m, \u001b[39m'\u001b[39m\u001b[39mhttp_error_default\u001b[39m\u001b[39m'\u001b[39m) \u001b[39m+\u001b[39m orig_args\n\u001b[0;32m--> 569\u001b[0m     \u001b[39mreturn\u001b[39;00m \u001b[39mself\u001b[39;49m\u001b[39m.\u001b[39;49m_call_chain(\u001b[39m*\u001b[39;49margs)\n",
      "File \u001b[0;32m/usr/lib/python3.8/urllib/request.py:502\u001b[0m, in \u001b[0;36mOpenerDirector._call_chain\u001b[0;34m(self, chain, kind, meth_name, *args)\u001b[0m\n\u001b[1;32m    500\u001b[0m \u001b[39mfor\u001b[39;00m handler \u001b[39min\u001b[39;00m handlers:\n\u001b[1;32m    501\u001b[0m     func \u001b[39m=\u001b[39m \u001b[39mgetattr\u001b[39m(handler, meth_name)\n\u001b[0;32m--> 502\u001b[0m     result \u001b[39m=\u001b[39m func(\u001b[39m*\u001b[39;49margs)\n\u001b[1;32m    503\u001b[0m     \u001b[39mif\u001b[39;00m result \u001b[39mis\u001b[39;00m \u001b[39mnot\u001b[39;00m \u001b[39mNone\u001b[39;00m:\n\u001b[1;32m    504\u001b[0m         \u001b[39mreturn\u001b[39;00m result\n",
      "File \u001b[0;32m/usr/lib/python3.8/urllib/request.py:649\u001b[0m, in \u001b[0;36mHTTPDefaultErrorHandler.http_error_default\u001b[0;34m(self, req, fp, code, msg, hdrs)\u001b[0m\n\u001b[1;32m    648\u001b[0m \u001b[39mdef\u001b[39;00m \u001b[39mhttp_error_default\u001b[39m(\u001b[39mself\u001b[39m, req, fp, code, msg, hdrs):\n\u001b[0;32m--> 649\u001b[0m     \u001b[39mraise\u001b[39;00m HTTPError(req\u001b[39m.\u001b[39mfull_url, code, msg, hdrs, fp)\n",
      "\u001b[0;31mHTTPError\u001b[0m: HTTP Error 400: Bad Request"
     ]
    }
   ],
   "source": [
    "# ogg_name = \"/home/doctor/Desktop/Projects/husky_audio_pipeline/vad_pyannote/py_files/records/short11.ogg\"\n",
    "ogg_name = \"/home/doctor/Desktop/Projects/husky_audio_pipeline/vad_pyannote/py_files/records/long11.ogg\"\n",
    "\n",
    "asr_result = asr_from_yandex_speeckit(FOLDER_ID, API_KEY, audiofile_name=ogg_name)\n",
    "\n",
    "asr_result"
   ]
  },
  {
   "cell_type": "code",
   "execution_count": 12,
   "metadata": {},
   "outputs": [],
   "source": [
    "# import os\n",
    "# port = 8008\n",
    "\n",
    "# curl -X POST \"http://localhost:8008/asr\"  -F 'file=@/home/appuser/test.ogg'"
   ]
  },
  {
   "cell_type": "code",
   "execution_count": 60,
   "metadata": {},
   "outputs": [],
   "source": [
    "tts_ogg_name = '/home/appuser/tts_result.ogg'\n",
    "text = \"Уничтожение человечества хахаахх\"\n",
    "\n",
    "tts_from_yandex_speechkit(text, FOLDER_ID, API_KEY)"
   ]
  },
  {
   "cell_type": "code",
   "execution_count": 10,
   "metadata": {},
   "outputs": [
    {
     "data": {
      "text/plain": [
       "'{\"transcript\":\"1 2 3 4\"}'"
      ]
     },
     "execution_count": 10,
     "metadata": {},
     "output_type": "execute_result"
    }
   ],
   "source": [
    "import requests\n",
    "tts_ogg_name = '/home/appuser/src/test.ogg'\n",
    "#asr-fastapi test\n",
    "url = \"http://localhost:8008/asr\"\n",
    "files = {'file': open(tts_ogg_name, 'rb')}\n",
    "r = requests.post(url, files=files)\n",
    "r.text"
   ]
  },
  {
   "cell_type": "code",
   "execution_count": 2,
   "metadata": {},
   "outputs": [],
   "source": [
    "#tts-fastapi test\n",
    "tts_ogg_name = '/home/appuser/tts_result.ogg'\n",
    "text = \"Привет дивный мир\"\n",
    "files = {'response': (None, text)}\n",
    "response = requests.post('http://localhost:8008/tts', files=files)\n",
    "with open(tts_ogg_name, 'wb') as f:\n",
    "    f.write(response.content) "
   ]
  },
  {
   "cell_type": "code",
   "execution_count": null,
   "metadata": {},
   "outputs": [],
   "source": []
  }
 ],
 "metadata": {
  "kernelspec": {
   "display_name": "Python 3",
   "language": "python",
   "name": "python3"
  },
  "language_info": {
   "codemirror_mode": {
    "name": "ipython",
    "version": 3
   },
   "file_extension": ".py",
   "mimetype": "text/x-python",
   "name": "python",
   "nbconvert_exporter": "python",
   "pygments_lexer": "ipython3",
   "version": "3.8.10 (default, Nov 14 2022, 12:59:47) \n[GCC 9.4.0]"
  },
  "orig_nbformat": 4,
  "vscode": {
   "interpreter": {
    "hash": "31f2aee4e71d21fbe5cf8b01ff0e069b9275f58929596ceb00d14d90e3e16cd6"
   }
  }
 },
 "nbformat": 4,
 "nbformat_minor": 2
}
