{
 "cells": [
  {
   "cell_type": "code",
   "execution_count": 11,
   "metadata": {},
   "outputs": [],
   "source": [
    "import os\n",
    "import urllib.request\n",
    "import json\n",
    "import requests\n",
    "\n",
    "def asr_from_yandex_speeckit(FOLDER_ID, API_KEY, audiofile_name,\n",
    "                                language=\"ru-RU\",\n",
    "                                 ):\n",
    "    \n",
    "    with open(audiofile_name, \"rb\") as f:\n",
    "        data = f.read()\n",
    "\n",
    "    params = \"&\".join([\n",
    "        \"topic=general\",\n",
    "        \"folderId=%s\" % FOLDER_ID,\n",
    "        \"lang=%s\" % language\n",
    "    ])\n",
    "\n",
    "    url = urllib.request.Request(\"https://stt.api.cloud.yandex.net/speech/v1/stt:recognize?%s\" % params, data=data)\n",
    "    url.add_header(\"Authorization\", \"Api-Key %s\" % API_KEY) # если API-ключ\n",
    "    # url.add_header(\"Authorization\", \"Bearer %s\" % IAM_TOKEN) # если IAM токен\n",
    "\n",
    "    responseData = urllib.request.urlopen(url).read().decode('UTF-8')\n",
    "    decodedData = json.loads(responseData)\n",
    "\n",
    "    if decodedData.get(\"error_code\") is None:\n",
    "        asr_result = decodedData.get(\"result\")\n",
    "    else:\n",
    "        asr_result = 'Nothing recognized'\n",
    "    \n",
    "    return asr_result\n",
    "\n",
    "def synthesize(folder_id, api_key, text):\n",
    "    url = 'https://tts.api.cloud.yandex.net/speech/v1/tts:synthesize'\n",
    "    headers = {\n",
    "        'Authorization': 'Api-Key ' + api_key,\n",
    "    }\n",
    "\n",
    "    data = {\n",
    "        'text': text,\n",
    "        'lang': 'ru-RU',\n",
    "        'voice': 'filipp',\n",
    "        'folderId': folder_id\n",
    "    }\n",
    "\n",
    "    with requests.post(url, headers=headers, data=data, stream=True) as resp:\n",
    "        if resp.status_code != 200:\n",
    "            raise RuntimeError(\"Invalid response received: code: %d, message: %s\" % (resp.status_code, resp.text))\n",
    "\n",
    "        \n",
    "        for chunk in resp.iter_content(chunk_size=None):\n",
    "            yield chunk\n",
    "            \n",
    "\n",
    "def tts_from_yandex_speechkit(text, FOLDER_ID, API_KEY, tts_ogg_name=\"tts_result.ogg\"):\n",
    "\n",
    "    with open(tts_ogg_name, \"wb\") as f:\n",
    "        for audio_content in synthesize(FOLDER_ID, API_KEY, text):\n",
    "            f.write(audio_content)\n"
   ]
  },
  {
   "cell_type": "code",
   "execution_count": 5,
   "metadata": {},
   "outputs": [],
   "source": [
    "FOLDER_ID = \"b1gami13b761380nb5hb\" # Идентификатор каталога\n",
    "API_KEY = \"AQVN3XofRyHEW5PJOhBYCiObnGaZNYM8IvAQskdp\" # API-ключ"
   ]
  },
  {
   "cell_type": "code",
   "execution_count": 6,
   "metadata": {},
   "outputs": [
    {
     "data": {
      "text/plain": [
       "'1 2 3 4'"
      ]
     },
     "execution_count": 6,
     "metadata": {},
     "output_type": "execute_result"
    }
   ],
   "source": [
    "ogg_name = \"/home/appuser/test.ogg\"\n",
    "\n",
    "asr_result = asr_from_yandex_speeckit(FOLDER_ID, API_KEY, audiofile_name=ogg_name)\n",
    "\n",
    "asr_result"
   ]
  },
  {
   "cell_type": "code",
   "execution_count": 12,
   "metadata": {},
   "outputs": [],
   "source": [
    "# import os\n",
    "# port = 8008\n",
    "\n",
    "# curl -X POST \"http://localhost:8008/asr\"  -F 'file=@/home/appuser/test.ogg'"
   ]
  },
  {
   "cell_type": "code",
   "execution_count": 60,
   "metadata": {},
   "outputs": [],
   "source": [
    "tts_ogg_name = '/home/appuser/tts_result.ogg'\n",
    "text = \"Уничтожение человечества хахаахх\"\n",
    "\n",
    "tts_from_yandex_speechkit(text, FOLDER_ID, API_KEY)"
   ]
  },
  {
   "cell_type": "code",
   "execution_count": 10,
   "metadata": {},
   "outputs": [
    {
     "data": {
      "text/plain": [
       "'{\"transcript\":\"1 2 3 4\"}'"
      ]
     },
     "execution_count": 10,
     "metadata": {},
     "output_type": "execute_result"
    }
   ],
   "source": [
    "import requests\n",
    "tts_ogg_name = '/home/appuser/src/test.ogg'\n",
    "#asr-fastapi test\n",
    "url = \"http://localhost:8008/asr\"\n",
    "files = {'file': open(tts_ogg_name, 'rb')}\n",
    "r = requests.post(url, files=files)\n",
    "r.text"
   ]
  },
  {
   "cell_type": "code",
   "execution_count": 2,
   "metadata": {},
   "outputs": [],
   "source": [
    "#tts-fastapi test\n",
    "tts_ogg_name = '/home/appuser/tts_result.ogg'\n",
    "text = \"Привет дивный мир\"\n",
    "files = {'response': (None, text)}\n",
    "response = requests.post('http://localhost:8008/tts', files=files)\n",
    "with open(tts_ogg_name, 'wb') as f:\n",
    "    f.write(response.content) "
   ]
  },
  {
   "cell_type": "code",
   "execution_count": null,
   "metadata": {},
   "outputs": [],
   "source": []
  }
 ],
 "metadata": {
  "kernelspec": {
   "display_name": "Python 3",
   "language": "python",
   "name": "python3"
  },
  "language_info": {
   "codemirror_mode": {
    "name": "ipython",
    "version": 3
   },
   "file_extension": ".py",
   "mimetype": "text/x-python",
   "name": "python",
   "nbconvert_exporter": "python",
   "pygments_lexer": "ipython3",
   "version": "3.8.16"
  },
  "orig_nbformat": 4,
  "vscode": {
   "interpreter": {
    "hash": "949777d72b0d2535278d3dc13498b2535136f6dfe0678499012e853ee9abcab1"
   }
  }
 },
 "nbformat": 4,
 "nbformat_minor": 2
}
